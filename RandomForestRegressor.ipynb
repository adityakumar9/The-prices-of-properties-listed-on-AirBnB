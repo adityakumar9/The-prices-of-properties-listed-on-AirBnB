{
 "cells": [
  {
   "cell_type": "code",
   "execution_count": 1,
   "metadata": {},
   "outputs": [],
   "source": [
    "import os\n",
    "import pandas as pd\n",
    "import numpy as np\n",
    "import json\n",
    "import matplotlib.pyplot as plt\n",
    "%matplotlib inline"
   ]
  },
  {
   "cell_type": "code",
   "execution_count": 3,
   "metadata": {},
   "outputs": [],
   "source": [
    "os.chdir(\"D:\\Education\\Python3\\Python For ML\")"
   ]
  },
  {
   "cell_type": "code",
   "execution_count": 4,
   "metadata": {},
   "outputs": [],
   "source": [
    "data=pd.read_json(\"amsterdam.json\")"
   ]
  },
  {
   "cell_type": "code",
   "execution_count": 5,
   "metadata": {},
   "outputs": [
    {
     "data": {
      "text/html": [
       "<div>\n",
       "<style scoped>\n",
       "    .dataframe tbody tr th:only-of-type {\n",
       "        vertical-align: middle;\n",
       "    }\n",
       "\n",
       "    .dataframe tbody tr th {\n",
       "        vertical-align: top;\n",
       "    }\n",
       "\n",
       "    .dataframe thead th {\n",
       "        text-align: right;\n",
       "    }\n",
       "</style>\n",
       "<table border=\"1\" class=\"dataframe\">\n",
       "  <thead>\n",
       "    <tr style=\"text-align: right;\">\n",
       "      <th></th>\n",
       "      <th>host_listings_count</th>\n",
       "      <th>accommodates</th>\n",
       "      <th>bathrooms</th>\n",
       "      <th>bedrooms</th>\n",
       "      <th>guests_included</th>\n",
       "      <th>minimum_nights</th>\n",
       "      <th>number_of_reviews</th>\n",
       "      <th>calculated_host_listings_count</th>\n",
       "      <th>price</th>\n",
       "      <th>latitude</th>\n",
       "      <th>longitude</th>\n",
       "      <th>room_type</th>\n",
       "      <th>instant_bookable</th>\n",
       "    </tr>\n",
       "  </thead>\n",
       "  <tbody>\n",
       "    <tr>\n",
       "      <th>0</th>\n",
       "      <td>1.0</td>\n",
       "      <td>6</td>\n",
       "      <td>1.0</td>\n",
       "      <td>2.0</td>\n",
       "      <td>1</td>\n",
       "      <td>3</td>\n",
       "      <td>4</td>\n",
       "      <td>1</td>\n",
       "      <td>$145.00</td>\n",
       "      <td>52.361173</td>\n",
       "      <td>4.866755</td>\n",
       "      <td>Entire home/apt</td>\n",
       "      <td>f</td>\n",
       "    </tr>\n",
       "    <tr>\n",
       "      <th>1</th>\n",
       "      <td>1.0</td>\n",
       "      <td>2</td>\n",
       "      <td>1.0</td>\n",
       "      <td>1.0</td>\n",
       "      <td>1</td>\n",
       "      <td>2</td>\n",
       "      <td>17</td>\n",
       "      <td>1</td>\n",
       "      <td>$88.00</td>\n",
       "      <td>52.370237</td>\n",
       "      <td>4.859507</td>\n",
       "      <td>Entire home/apt</td>\n",
       "      <td>f</td>\n",
       "    </tr>\n",
       "    <tr>\n",
       "      <th>10</th>\n",
       "      <td>1.0</td>\n",
       "      <td>2</td>\n",
       "      <td>1.0</td>\n",
       "      <td>1.0</td>\n",
       "      <td>1</td>\n",
       "      <td>3</td>\n",
       "      <td>0</td>\n",
       "      <td>1</td>\n",
       "      <td>$130.00</td>\n",
       "      <td>52.371424</td>\n",
       "      <td>4.848644</td>\n",
       "      <td>Entire home/apt</td>\n",
       "      <td>f</td>\n",
       "    </tr>\n",
       "    <tr>\n",
       "      <th>100</th>\n",
       "      <td>1.0</td>\n",
       "      <td>5</td>\n",
       "      <td>1.0</td>\n",
       "      <td>4.0</td>\n",
       "      <td>1</td>\n",
       "      <td>5</td>\n",
       "      <td>2</td>\n",
       "      <td>1</td>\n",
       "      <td>$90.00</td>\n",
       "      <td>52.312889</td>\n",
       "      <td>4.980151</td>\n",
       "      <td>Entire home/apt</td>\n",
       "      <td>f</td>\n",
       "    </tr>\n",
       "    <tr>\n",
       "      <th>1000</th>\n",
       "      <td>1.0</td>\n",
       "      <td>1</td>\n",
       "      <td>1.0</td>\n",
       "      <td>1.0</td>\n",
       "      <td>1</td>\n",
       "      <td>1</td>\n",
       "      <td>32</td>\n",
       "      <td>1</td>\n",
       "      <td>$39.00</td>\n",
       "      <td>52.395334</td>\n",
       "      <td>4.916701</td>\n",
       "      <td>Private room</td>\n",
       "      <td>t</td>\n",
       "    </tr>\n",
       "  </tbody>\n",
       "</table>\n",
       "</div>"
      ],
      "text/plain": [
       "      host_listings_count  accommodates  bathrooms  bedrooms  guests_included  \\\n",
       "0                     1.0             6        1.0       2.0                1   \n",
       "1                     1.0             2        1.0       1.0                1   \n",
       "10                    1.0             2        1.0       1.0                1   \n",
       "100                   1.0             5        1.0       4.0                1   \n",
       "1000                  1.0             1        1.0       1.0                1   \n",
       "\n",
       "      minimum_nights  number_of_reviews  calculated_host_listings_count  \\\n",
       "0                  3                  4                               1   \n",
       "1                  2                 17                               1   \n",
       "10                 3                  0                               1   \n",
       "100                5                  2                               1   \n",
       "1000               1                 32                               1   \n",
       "\n",
       "        price   latitude  longitude        room_type instant_bookable  \n",
       "0     $145.00  52.361173   4.866755  Entire home/apt                f  \n",
       "1      $88.00  52.370237   4.859507  Entire home/apt                f  \n",
       "10    $130.00  52.371424   4.848644  Entire home/apt                f  \n",
       "100    $90.00  52.312889   4.980151  Entire home/apt                f  \n",
       "1000   $39.00  52.395334   4.916701     Private room                t  "
      ]
     },
     "execution_count": 5,
     "metadata": {},
     "output_type": "execute_result"
    }
   ],
   "source": [
    "data.head()"
   ]
  },
  {
   "cell_type": "code",
   "execution_count": 6,
   "metadata": {},
   "outputs": [
    {
     "data": {
      "text/plain": [
       "(15181, 13)"
      ]
     },
     "execution_count": 6,
     "metadata": {},
     "output_type": "execute_result"
    }
   ],
   "source": [
    "data.shape"
   ]
  },
  {
   "cell_type": "code",
   "execution_count": 7,
   "metadata": {},
   "outputs": [
    {
     "data": {
      "text/plain": [
       "host_listings_count                3\n",
       "accommodates                       0\n",
       "bathrooms                         18\n",
       "bedrooms                          12\n",
       "guests_included                    0\n",
       "minimum_nights                     0\n",
       "number_of_reviews                  0\n",
       "calculated_host_listings_count     0\n",
       "price                              0\n",
       "latitude                           0\n",
       "longitude                          0\n",
       "room_type                          0\n",
       "instant_bookable                   0\n",
       "dtype: int64"
      ]
     },
     "execution_count": 7,
     "metadata": {},
     "output_type": "execute_result"
    }
   ],
   "source": [
    "data.isnull().sum()"
   ]
  },
  {
   "cell_type": "code",
   "execution_count": 8,
   "metadata": {},
   "outputs": [],
   "source": [
    "data['price']=data['price'].str.replace(\"$\",\"\")"
   ]
  },
  {
   "cell_type": "code",
   "execution_count": 9,
   "metadata": {},
   "outputs": [],
   "source": [
    "data['price']=data['price'].str.replace(\",\",\"\")"
   ]
  },
  {
   "cell_type": "code",
   "execution_count": 10,
   "metadata": {},
   "outputs": [],
   "source": [
    "data.price=pd.to_numeric(data.price)"
   ]
  },
  {
   "cell_type": "code",
   "execution_count": 11,
   "metadata": {},
   "outputs": [
    {
     "data": {
      "text/plain": [
       "134.79922271260128"
      ]
     },
     "execution_count": 11,
     "metadata": {},
     "output_type": "execute_result"
    }
   ],
   "source": [
    "np.mean(data['price'])"
   ]
  },
  {
   "cell_type": "code",
   "execution_count": 12,
   "metadata": {},
   "outputs": [
    {
     "name": "stdout",
     "output_type": "stream",
     "text": [
      "134.799\n"
     ]
    }
   ],
   "source": [
    "print(round(134.79922271260128,3))"
   ]
  },
  {
   "cell_type": "code",
   "execution_count": 13,
   "metadata": {},
   "outputs": [
    {
     "data": {
      "text/plain": [
       "3142.0"
      ]
     },
     "execution_count": 13,
     "metadata": {},
     "output_type": "execute_result"
    }
   ],
   "source": [
    "np.max(data['price'])"
   ]
  },
  {
   "cell_type": "code",
   "execution_count": 14,
   "metadata": {},
   "outputs": [
    {
     "data": {
      "text/plain": [
       "440.0"
      ]
     },
     "execution_count": 14,
     "metadata": {},
     "output_type": "execute_result"
    }
   ],
   "source": [
    "np.percentile(data['price'],99)"
   ]
  },
  {
   "cell_type": "code",
   "execution_count": 15,
   "metadata": {},
   "outputs": [],
   "source": [
    "l=data[~(data['price'] >= 440.0)]"
   ]
  },
  {
   "cell_type": "code",
   "execution_count": 16,
   "metadata": {},
   "outputs": [
    {
     "data": {
      "text/plain": [
       "209.0"
      ]
     },
     "execution_count": 16,
     "metadata": {},
     "output_type": "execute_result"
    }
   ],
   "source": [
    "np.percentile(l['price'],90)"
   ]
  },
  {
   "cell_type": "code",
   "execution_count": 17,
   "metadata": {},
   "outputs": [],
   "source": [
    "l=l.dropna()"
   ]
  },
  {
   "cell_type": "code",
   "execution_count": 18,
   "metadata": {},
   "outputs": [
    {
     "data": {
      "text/plain": [
       "(14995, 13)"
      ]
     },
     "execution_count": 18,
     "metadata": {},
     "output_type": "execute_result"
    }
   ],
   "source": [
    "l.shape"
   ]
  },
  {
   "cell_type": "code",
   "execution_count": 19,
   "metadata": {},
   "outputs": [],
   "source": [
    "from math import radians, cos, sin, asin, sqrt\n",
    "\n",
    "def haversine_np(lon1, lat1, lon2, lat2):\n",
    "    \"\"\"\n",
    "    Calculate the great circle distance between two points\n",
    "    on the earth (specified in decimal degrees)\n",
    "\n",
    "    All args must be of equal length.    \n",
    "\n",
    "    \"\"\"\n",
    "    lon1, lat1, lon2, lat2 = map(np.radians, [lon1, lat1, lon2, lat2])\n",
    "\n",
    "    dlon = lon2 - lon1\n",
    "    dlat = lat2 - lat1\n",
    "\n",
    "    a = np.sin(dlat/2.0)**2 + np.cos(lat1) * np.cos(lat2) * np.sin(dlon/2.0)**2\n",
    "\n",
    "    c = 2 * np.arcsin(np.sqrt(a))\n",
    "    km = 6367 * c\n",
    "    return km"
   ]
  },
  {
   "cell_type": "code",
   "execution_count": 20,
   "metadata": {},
   "outputs": [
    {
     "name": "stdout",
     "output_type": "stream",
     "text": [
      "0        2.987199\n",
      "1        2.885443\n",
      "10       3.551815\n",
      "100      9.181975\n",
      "1000     2.142603\n",
      "10000    5.056605\n",
      "10001    4.441026\n",
      "10002    4.249874\n",
      "10003    3.875778\n",
      "10004    4.667275\n",
      "10005    3.135581\n",
      "10006    4.129744\n",
      "10007    4.824441\n",
      "10008    4.488063\n",
      "10009    4.180688\n",
      "1001     2.194954\n",
      "10010    2.737793\n",
      "10011    4.039054\n",
      "10012    4.286530\n",
      "10013    4.366876\n",
      "10014    4.266041\n",
      "10015    4.138609\n",
      "10016    4.128881\n",
      "10017    4.364664\n",
      "10018    4.347595\n",
      "10019    2.793791\n",
      "1002     2.179874\n",
      "10020    4.383291\n",
      "10021    3.099883\n",
      "10022    4.179456\n",
      "           ...   \n",
      "9970     4.467894\n",
      "9971     4.277276\n",
      "9972     4.843077\n",
      "9973     4.250958\n",
      "9974     4.702028\n",
      "9975     2.547578\n",
      "9976     2.830893\n",
      "9977     4.526707\n",
      "9978     4.373184\n",
      "9979     4.709415\n",
      "998      2.368129\n",
      "9980     5.709307\n",
      "9981     3.852859\n",
      "9983     4.374359\n",
      "9984     5.414300\n",
      "9985     4.874302\n",
      "9986     4.182773\n",
      "9988     3.411279\n",
      "9989     4.495535\n",
      "999      0.680370\n",
      "9990     4.187849\n",
      "9991     4.341636\n",
      "9992     5.686010\n",
      "9993     3.096991\n",
      "9994     3.465918\n",
      "9995     4.253067\n",
      "9996     4.198976\n",
      "9997     2.861854\n",
      "9998     4.178585\n",
      "9999     4.719206\n",
      "Length: 14995, dtype: float64\n"
     ]
    }
   ],
   "source": [
    "print(haversine_np(l['longitude'], l['latitude'], 4.899431, 52.379189))"
   ]
  },
  {
   "cell_type": "code",
   "execution_count": 21,
   "metadata": {},
   "outputs": [],
   "source": [
    "l['d_centre']=haversine_np(l['longitude'], l['latitude'], 4.899431, 52.379189)"
   ]
  },
  {
   "cell_type": "code",
   "execution_count": 22,
   "metadata": {},
   "outputs": [
    {
     "data": {
      "text/plain": [
       "0    2.987199\n",
       "1    2.885443\n",
       "Name: d_centre, dtype: float64"
      ]
     },
     "execution_count": 22,
     "metadata": {},
     "output_type": "execute_result"
    }
   ],
   "source": [
    "l['d_centre'].head(2)"
   ]
  },
  {
   "cell_type": "code",
   "execution_count": 23,
   "metadata": {},
   "outputs": [
    {
     "data": {
      "text/html": [
       "<div>\n",
       "<style scoped>\n",
       "    .dataframe tbody tr th:only-of-type {\n",
       "        vertical-align: middle;\n",
       "    }\n",
       "\n",
       "    .dataframe tbody tr th {\n",
       "        vertical-align: top;\n",
       "    }\n",
       "\n",
       "    .dataframe thead th {\n",
       "        text-align: right;\n",
       "    }\n",
       "</style>\n",
       "<table border=\"1\" class=\"dataframe\">\n",
       "  <thead>\n",
       "    <tr style=\"text-align: right;\">\n",
       "      <th></th>\n",
       "      <th>host_listings_count</th>\n",
       "      <th>accommodates</th>\n",
       "      <th>bathrooms</th>\n",
       "      <th>bedrooms</th>\n",
       "      <th>guests_included</th>\n",
       "      <th>minimum_nights</th>\n",
       "      <th>number_of_reviews</th>\n",
       "      <th>calculated_host_listings_count</th>\n",
       "      <th>price</th>\n",
       "      <th>latitude</th>\n",
       "      <th>longitude</th>\n",
       "      <th>room_type</th>\n",
       "      <th>instant_bookable</th>\n",
       "      <th>d_centre</th>\n",
       "    </tr>\n",
       "  </thead>\n",
       "  <tbody>\n",
       "    <tr>\n",
       "      <th>0</th>\n",
       "      <td>1.0</td>\n",
       "      <td>6</td>\n",
       "      <td>1.0</td>\n",
       "      <td>2.0</td>\n",
       "      <td>1</td>\n",
       "      <td>3</td>\n",
       "      <td>4</td>\n",
       "      <td>1</td>\n",
       "      <td>145.0</td>\n",
       "      <td>52.361173</td>\n",
       "      <td>4.866755</td>\n",
       "      <td>Entire home/apt</td>\n",
       "      <td>f</td>\n",
       "      <td>2.987199</td>\n",
       "    </tr>\n",
       "    <tr>\n",
       "      <th>1</th>\n",
       "      <td>1.0</td>\n",
       "      <td>2</td>\n",
       "      <td>1.0</td>\n",
       "      <td>1.0</td>\n",
       "      <td>1</td>\n",
       "      <td>2</td>\n",
       "      <td>17</td>\n",
       "      <td>1</td>\n",
       "      <td>88.0</td>\n",
       "      <td>52.370237</td>\n",
       "      <td>4.859507</td>\n",
       "      <td>Entire home/apt</td>\n",
       "      <td>f</td>\n",
       "      <td>2.885443</td>\n",
       "    </tr>\n",
       "    <tr>\n",
       "      <th>10</th>\n",
       "      <td>1.0</td>\n",
       "      <td>2</td>\n",
       "      <td>1.0</td>\n",
       "      <td>1.0</td>\n",
       "      <td>1</td>\n",
       "      <td>3</td>\n",
       "      <td>0</td>\n",
       "      <td>1</td>\n",
       "      <td>130.0</td>\n",
       "      <td>52.371424</td>\n",
       "      <td>4.848644</td>\n",
       "      <td>Entire home/apt</td>\n",
       "      <td>f</td>\n",
       "      <td>3.551815</td>\n",
       "    </tr>\n",
       "    <tr>\n",
       "      <th>100</th>\n",
       "      <td>1.0</td>\n",
       "      <td>5</td>\n",
       "      <td>1.0</td>\n",
       "      <td>4.0</td>\n",
       "      <td>1</td>\n",
       "      <td>5</td>\n",
       "      <td>2</td>\n",
       "      <td>1</td>\n",
       "      <td>90.0</td>\n",
       "      <td>52.312889</td>\n",
       "      <td>4.980151</td>\n",
       "      <td>Entire home/apt</td>\n",
       "      <td>f</td>\n",
       "      <td>9.181975</td>\n",
       "    </tr>\n",
       "    <tr>\n",
       "      <th>1000</th>\n",
       "      <td>1.0</td>\n",
       "      <td>1</td>\n",
       "      <td>1.0</td>\n",
       "      <td>1.0</td>\n",
       "      <td>1</td>\n",
       "      <td>1</td>\n",
       "      <td>32</td>\n",
       "      <td>1</td>\n",
       "      <td>39.0</td>\n",
       "      <td>52.395334</td>\n",
       "      <td>4.916701</td>\n",
       "      <td>Private room</td>\n",
       "      <td>t</td>\n",
       "      <td>2.142603</td>\n",
       "    </tr>\n",
       "    <tr>\n",
       "      <th>10000</th>\n",
       "      <td>1.0</td>\n",
       "      <td>3</td>\n",
       "      <td>1.0</td>\n",
       "      <td>2.0</td>\n",
       "      <td>1</td>\n",
       "      <td>2</td>\n",
       "      <td>3</td>\n",
       "      <td>1</td>\n",
       "      <td>118.0</td>\n",
       "      <td>52.347202</td>\n",
       "      <td>4.846432</td>\n",
       "      <td>Entire home/apt</td>\n",
       "      <td>f</td>\n",
       "      <td>5.056605</td>\n",
       "    </tr>\n",
       "    <tr>\n",
       "      <th>10001</th>\n",
       "      <td>34.0</td>\n",
       "      <td>4</td>\n",
       "      <td>1.0</td>\n",
       "      <td>2.0</td>\n",
       "      <td>1</td>\n",
       "      <td>2</td>\n",
       "      <td>5</td>\n",
       "      <td>31</td>\n",
       "      <td>129.0</td>\n",
       "      <td>52.344071</td>\n",
       "      <td>4.868194</td>\n",
       "      <td>Entire home/apt</td>\n",
       "      <td>t</td>\n",
       "      <td>4.441026</td>\n",
       "    </tr>\n",
       "    <tr>\n",
       "      <th>10002</th>\n",
       "      <td>1.0</td>\n",
       "      <td>4</td>\n",
       "      <td>1.0</td>\n",
       "      <td>3.0</td>\n",
       "      <td>1</td>\n",
       "      <td>2</td>\n",
       "      <td>10</td>\n",
       "      <td>1</td>\n",
       "      <td>130.0</td>\n",
       "      <td>52.345653</td>\n",
       "      <td>4.869328</td>\n",
       "      <td>Entire home/apt</td>\n",
       "      <td>t</td>\n",
       "      <td>4.249874</td>\n",
       "    </tr>\n",
       "    <tr>\n",
       "      <th>10003</th>\n",
       "      <td>1.0</td>\n",
       "      <td>4</td>\n",
       "      <td>1.0</td>\n",
       "      <td>1.0</td>\n",
       "      <td>1</td>\n",
       "      <td>3</td>\n",
       "      <td>16</td>\n",
       "      <td>1</td>\n",
       "      <td>135.0</td>\n",
       "      <td>52.347393</td>\n",
       "      <td>4.875956</td>\n",
       "      <td>Private room</td>\n",
       "      <td>f</td>\n",
       "      <td>3.875778</td>\n",
       "    </tr>\n",
       "    <tr>\n",
       "      <th>10004</th>\n",
       "      <td>1.0</td>\n",
       "      <td>2</td>\n",
       "      <td>1.0</td>\n",
       "      <td>1.0</td>\n",
       "      <td>1</td>\n",
       "      <td>1</td>\n",
       "      <td>0</td>\n",
       "      <td>1</td>\n",
       "      <td>94.0</td>\n",
       "      <td>52.350096</td>\n",
       "      <td>4.849824</td>\n",
       "      <td>Entire home/apt</td>\n",
       "      <td>f</td>\n",
       "      <td>4.667275</td>\n",
       "    </tr>\n",
       "  </tbody>\n",
       "</table>\n",
       "</div>"
      ],
      "text/plain": [
       "       host_listings_count  accommodates  bathrooms  bedrooms  \\\n",
       "0                      1.0             6        1.0       2.0   \n",
       "1                      1.0             2        1.0       1.0   \n",
       "10                     1.0             2        1.0       1.0   \n",
       "100                    1.0             5        1.0       4.0   \n",
       "1000                   1.0             1        1.0       1.0   \n",
       "10000                  1.0             3        1.0       2.0   \n",
       "10001                 34.0             4        1.0       2.0   \n",
       "10002                  1.0             4        1.0       3.0   \n",
       "10003                  1.0             4        1.0       1.0   \n",
       "10004                  1.0             2        1.0       1.0   \n",
       "\n",
       "       guests_included  minimum_nights  number_of_reviews  \\\n",
       "0                    1               3                  4   \n",
       "1                    1               2                 17   \n",
       "10                   1               3                  0   \n",
       "100                  1               5                  2   \n",
       "1000                 1               1                 32   \n",
       "10000                1               2                  3   \n",
       "10001                1               2                  5   \n",
       "10002                1               2                 10   \n",
       "10003                1               3                 16   \n",
       "10004                1               1                  0   \n",
       "\n",
       "       calculated_host_listings_count  price   latitude  longitude  \\\n",
       "0                                   1  145.0  52.361173   4.866755   \n",
       "1                                   1   88.0  52.370237   4.859507   \n",
       "10                                  1  130.0  52.371424   4.848644   \n",
       "100                                 1   90.0  52.312889   4.980151   \n",
       "1000                                1   39.0  52.395334   4.916701   \n",
       "10000                               1  118.0  52.347202   4.846432   \n",
       "10001                              31  129.0  52.344071   4.868194   \n",
       "10002                               1  130.0  52.345653   4.869328   \n",
       "10003                               1  135.0  52.347393   4.875956   \n",
       "10004                               1   94.0  52.350096   4.849824   \n",
       "\n",
       "             room_type instant_bookable  d_centre  \n",
       "0      Entire home/apt                f  2.987199  \n",
       "1      Entire home/apt                f  2.885443  \n",
       "10     Entire home/apt                f  3.551815  \n",
       "100    Entire home/apt                f  9.181975  \n",
       "1000      Private room                t  2.142603  \n",
       "10000  Entire home/apt                f  5.056605  \n",
       "10001  Entire home/apt                t  4.441026  \n",
       "10002  Entire home/apt                t  4.249874  \n",
       "10003     Private room                f  3.875778  \n",
       "10004  Entire home/apt                f  4.667275  "
      ]
     },
     "execution_count": 23,
     "metadata": {},
     "output_type": "execute_result"
    }
   ],
   "source": [
    "l.head(10)"
   ]
  },
  {
   "cell_type": "code",
   "execution_count": 24,
   "metadata": {},
   "outputs": [
    {
     "data": {
      "text/html": [
       "<div>\n",
       "<style scoped>\n",
       "    .dataframe tbody tr th:only-of-type {\n",
       "        vertical-align: middle;\n",
       "    }\n",
       "\n",
       "    .dataframe tbody tr th {\n",
       "        vertical-align: top;\n",
       "    }\n",
       "\n",
       "    .dataframe thead th {\n",
       "        text-align: right;\n",
       "    }\n",
       "</style>\n",
       "<table border=\"1\" class=\"dataframe\">\n",
       "  <thead>\n",
       "    <tr style=\"text-align: right;\">\n",
       "      <th></th>\n",
       "      <th>host_listings_count</th>\n",
       "      <th>accommodates</th>\n",
       "      <th>bathrooms</th>\n",
       "      <th>bedrooms</th>\n",
       "      <th>guests_included</th>\n",
       "      <th>minimum_nights</th>\n",
       "      <th>number_of_reviews</th>\n",
       "      <th>calculated_host_listings_count</th>\n",
       "      <th>price</th>\n",
       "      <th>latitude</th>\n",
       "      <th>longitude</th>\n",
       "      <th>room_type</th>\n",
       "      <th>instant_bookable</th>\n",
       "      <th>d_centre</th>\n",
       "    </tr>\n",
       "  </thead>\n",
       "  <tbody>\n",
       "    <tr>\n",
       "      <th>3158</th>\n",
       "      <td>1.0</td>\n",
       "      <td>2</td>\n",
       "      <td>1.5</td>\n",
       "      <td>1.0</td>\n",
       "      <td>1</td>\n",
       "      <td>1</td>\n",
       "      <td>0</td>\n",
       "      <td>1</td>\n",
       "      <td>85.0</td>\n",
       "      <td>52.378546</td>\n",
       "      <td>4.900775</td>\n",
       "      <td>Private room</td>\n",
       "      <td>f</td>\n",
       "      <td>0.115801</td>\n",
       "    </tr>\n",
       "    <tr>\n",
       "      <th>3168</th>\n",
       "      <td>1.0</td>\n",
       "      <td>4</td>\n",
       "      <td>1.0</td>\n",
       "      <td>1.0</td>\n",
       "      <td>1</td>\n",
       "      <td>1</td>\n",
       "      <td>0</td>\n",
       "      <td>1</td>\n",
       "      <td>41.0</td>\n",
       "      <td>52.378850</td>\n",
       "      <td>4.901433</td>\n",
       "      <td>Shared room</td>\n",
       "      <td>f</td>\n",
       "      <td>0.140946</td>\n",
       "    </tr>\n",
       "    <tr>\n",
       "      <th>2639</th>\n",
       "      <td>1.0</td>\n",
       "      <td>4</td>\n",
       "      <td>1.0</td>\n",
       "      <td>1.0</td>\n",
       "      <td>2</td>\n",
       "      <td>3</td>\n",
       "      <td>27</td>\n",
       "      <td>1</td>\n",
       "      <td>159.0</td>\n",
       "      <td>52.379089</td>\n",
       "      <td>4.897293</td>\n",
       "      <td>Entire home/apt</td>\n",
       "      <td>f</td>\n",
       "      <td>0.145468</td>\n",
       "    </tr>\n",
       "    <tr>\n",
       "      <th>3010</th>\n",
       "      <td>4.0</td>\n",
       "      <td>2</td>\n",
       "      <td>1.0</td>\n",
       "      <td>1.0</td>\n",
       "      <td>1</td>\n",
       "      <td>1</td>\n",
       "      <td>4</td>\n",
       "      <td>4</td>\n",
       "      <td>150.0</td>\n",
       "      <td>52.378549</td>\n",
       "      <td>4.896679</td>\n",
       "      <td>Private room</td>\n",
       "      <td>t</td>\n",
       "      <td>0.199767</td>\n",
       "    </tr>\n",
       "    <tr>\n",
       "      <th>1860</th>\n",
       "      <td>1.0</td>\n",
       "      <td>2</td>\n",
       "      <td>1.0</td>\n",
       "      <td>1.0</td>\n",
       "      <td>1</td>\n",
       "      <td>1</td>\n",
       "      <td>9</td>\n",
       "      <td>1</td>\n",
       "      <td>120.0</td>\n",
       "      <td>52.378398</td>\n",
       "      <td>4.896674</td>\n",
       "      <td>Private room</td>\n",
       "      <td>f</td>\n",
       "      <td>0.206638</td>\n",
       "    </tr>\n",
       "  </tbody>\n",
       "</table>\n",
       "</div>"
      ],
      "text/plain": [
       "      host_listings_count  accommodates  bathrooms  bedrooms  guests_included  \\\n",
       "3158                  1.0             2        1.5       1.0                1   \n",
       "3168                  1.0             4        1.0       1.0                1   \n",
       "2639                  1.0             4        1.0       1.0                2   \n",
       "3010                  4.0             2        1.0       1.0                1   \n",
       "1860                  1.0             2        1.0       1.0                1   \n",
       "\n",
       "      minimum_nights  number_of_reviews  calculated_host_listings_count  \\\n",
       "3158               1                  0                               1   \n",
       "3168               1                  0                               1   \n",
       "2639               3                 27                               1   \n",
       "3010               1                  4                               4   \n",
       "1860               1                  9                               1   \n",
       "\n",
       "      price   latitude  longitude        room_type instant_bookable  d_centre  \n",
       "3158   85.0  52.378546   4.900775     Private room                f  0.115801  \n",
       "3168   41.0  52.378850   4.901433      Shared room                f  0.140946  \n",
       "2639  159.0  52.379089   4.897293  Entire home/apt                f  0.145468  \n",
       "3010  150.0  52.378549   4.896679     Private room                t  0.199767  \n",
       "1860  120.0  52.378398   4.896674     Private room                f  0.206638  "
      ]
     },
     "execution_count": 24,
     "metadata": {},
     "output_type": "execute_result"
    }
   ],
   "source": [
    "l.sort_values('d_centre').head()"
   ]
  },
  {
   "cell_type": "code",
   "execution_count": 25,
   "metadata": {},
   "outputs": [
    {
     "data": {
      "text/html": [
       "<div>\n",
       "<style scoped>\n",
       "    .dataframe tbody tr th:only-of-type {\n",
       "        vertical-align: middle;\n",
       "    }\n",
       "\n",
       "    .dataframe tbody tr th {\n",
       "        vertical-align: top;\n",
       "    }\n",
       "\n",
       "    .dataframe thead th {\n",
       "        text-align: right;\n",
       "    }\n",
       "</style>\n",
       "<table border=\"1\" class=\"dataframe\">\n",
       "  <thead>\n",
       "    <tr style=\"text-align: right;\">\n",
       "      <th></th>\n",
       "      <th>price</th>\n",
       "      <th>d_centre</th>\n",
       "    </tr>\n",
       "  </thead>\n",
       "  <tbody>\n",
       "    <tr>\n",
       "      <th>3158</th>\n",
       "      <td>85.0</td>\n",
       "      <td>0.115801</td>\n",
       "    </tr>\n",
       "    <tr>\n",
       "      <th>3168</th>\n",
       "      <td>41.0</td>\n",
       "      <td>0.140946</td>\n",
       "    </tr>\n",
       "    <tr>\n",
       "      <th>2639</th>\n",
       "      <td>159.0</td>\n",
       "      <td>0.145468</td>\n",
       "    </tr>\n",
       "    <tr>\n",
       "      <th>3010</th>\n",
       "      <td>150.0</td>\n",
       "      <td>0.199767</td>\n",
       "    </tr>\n",
       "    <tr>\n",
       "      <th>1860</th>\n",
       "      <td>120.0</td>\n",
       "      <td>0.206638</td>\n",
       "    </tr>\n",
       "  </tbody>\n",
       "</table>\n",
       "</div>"
      ],
      "text/plain": [
       "      price  d_centre\n",
       "3158   85.0  0.115801\n",
       "3168   41.0  0.140946\n",
       "2639  159.0  0.145468\n",
       "3010  150.0  0.199767\n",
       "1860  120.0  0.206638"
      ]
     },
     "execution_count": 25,
     "metadata": {},
     "output_type": "execute_result"
    }
   ],
   "source": [
    "l.sort_values('d_centre')[['price','d_centre']].head()"
   ]
  },
  {
   "cell_type": "code",
   "execution_count": 26,
   "metadata": {},
   "outputs": [
    {
     "data": {
      "text/html": [
       "<div>\n",
       "<style scoped>\n",
       "    .dataframe tbody tr th:only-of-type {\n",
       "        vertical-align: middle;\n",
       "    }\n",
       "\n",
       "    .dataframe tbody tr th {\n",
       "        vertical-align: top;\n",
       "    }\n",
       "\n",
       "    .dataframe thead th {\n",
       "        text-align: right;\n",
       "    }\n",
       "</style>\n",
       "<table border=\"1\" class=\"dataframe\">\n",
       "  <thead>\n",
       "    <tr style=\"text-align: right;\">\n",
       "      <th></th>\n",
       "      <th>price</th>\n",
       "    </tr>\n",
       "    <tr>\n",
       "      <th>room_type</th>\n",
       "      <th></th>\n",
       "    </tr>\n",
       "  </thead>\n",
       "  <tbody>\n",
       "    <tr>\n",
       "      <th>Entire home/apt</th>\n",
       "      <td>140.234116</td>\n",
       "    </tr>\n",
       "    <tr>\n",
       "      <th>Private room</th>\n",
       "      <td>83.833557</td>\n",
       "    </tr>\n",
       "    <tr>\n",
       "      <th>Shared room</th>\n",
       "      <td>88.821429</td>\n",
       "    </tr>\n",
       "  </tbody>\n",
       "</table>\n",
       "</div>"
      ],
      "text/plain": [
       "                      price\n",
       "room_type                  \n",
       "Entire home/apt  140.234116\n",
       "Private room      83.833557\n",
       "Shared room       88.821429"
      ]
     },
     "execution_count": 26,
     "metadata": {},
     "output_type": "execute_result"
    }
   ],
   "source": [
    "l[l['d_centre']>=1].groupby(\"room_type\").agg({'price':np.mean})"
   ]
  },
  {
   "cell_type": "code",
   "execution_count": 27,
   "metadata": {},
   "outputs": [],
   "source": [
    "## create the Regression tree\n",
    "X=l.drop([\"price\"], axis=1)"
   ]
  },
  {
   "cell_type": "code",
   "execution_count": 28,
   "metadata": {},
   "outputs": [
    {
     "data": {
      "text/html": [
       "<div>\n",
       "<style scoped>\n",
       "    .dataframe tbody tr th:only-of-type {\n",
       "        vertical-align: middle;\n",
       "    }\n",
       "\n",
       "    .dataframe tbody tr th {\n",
       "        vertical-align: top;\n",
       "    }\n",
       "\n",
       "    .dataframe thead th {\n",
       "        text-align: right;\n",
       "    }\n",
       "</style>\n",
       "<table border=\"1\" class=\"dataframe\">\n",
       "  <thead>\n",
       "    <tr style=\"text-align: right;\">\n",
       "      <th></th>\n",
       "      <th>host_listings_count</th>\n",
       "      <th>accommodates</th>\n",
       "      <th>bathrooms</th>\n",
       "      <th>bedrooms</th>\n",
       "      <th>guests_included</th>\n",
       "      <th>minimum_nights</th>\n",
       "      <th>number_of_reviews</th>\n",
       "      <th>calculated_host_listings_count</th>\n",
       "      <th>latitude</th>\n",
       "      <th>longitude</th>\n",
       "      <th>room_type</th>\n",
       "      <th>instant_bookable</th>\n",
       "      <th>d_centre</th>\n",
       "    </tr>\n",
       "  </thead>\n",
       "  <tbody>\n",
       "    <tr>\n",
       "      <th>0</th>\n",
       "      <td>1.0</td>\n",
       "      <td>6</td>\n",
       "      <td>1.0</td>\n",
       "      <td>2.0</td>\n",
       "      <td>1</td>\n",
       "      <td>3</td>\n",
       "      <td>4</td>\n",
       "      <td>1</td>\n",
       "      <td>52.361173</td>\n",
       "      <td>4.866755</td>\n",
       "      <td>Entire home/apt</td>\n",
       "      <td>f</td>\n",
       "      <td>2.987199</td>\n",
       "    </tr>\n",
       "    <tr>\n",
       "      <th>1</th>\n",
       "      <td>1.0</td>\n",
       "      <td>2</td>\n",
       "      <td>1.0</td>\n",
       "      <td>1.0</td>\n",
       "      <td>1</td>\n",
       "      <td>2</td>\n",
       "      <td>17</td>\n",
       "      <td>1</td>\n",
       "      <td>52.370237</td>\n",
       "      <td>4.859507</td>\n",
       "      <td>Entire home/apt</td>\n",
       "      <td>f</td>\n",
       "      <td>2.885443</td>\n",
       "    </tr>\n",
       "    <tr>\n",
       "      <th>10</th>\n",
       "      <td>1.0</td>\n",
       "      <td>2</td>\n",
       "      <td>1.0</td>\n",
       "      <td>1.0</td>\n",
       "      <td>1</td>\n",
       "      <td>3</td>\n",
       "      <td>0</td>\n",
       "      <td>1</td>\n",
       "      <td>52.371424</td>\n",
       "      <td>4.848644</td>\n",
       "      <td>Entire home/apt</td>\n",
       "      <td>f</td>\n",
       "      <td>3.551815</td>\n",
       "    </tr>\n",
       "    <tr>\n",
       "      <th>100</th>\n",
       "      <td>1.0</td>\n",
       "      <td>5</td>\n",
       "      <td>1.0</td>\n",
       "      <td>4.0</td>\n",
       "      <td>1</td>\n",
       "      <td>5</td>\n",
       "      <td>2</td>\n",
       "      <td>1</td>\n",
       "      <td>52.312889</td>\n",
       "      <td>4.980151</td>\n",
       "      <td>Entire home/apt</td>\n",
       "      <td>f</td>\n",
       "      <td>9.181975</td>\n",
       "    </tr>\n",
       "    <tr>\n",
       "      <th>1000</th>\n",
       "      <td>1.0</td>\n",
       "      <td>1</td>\n",
       "      <td>1.0</td>\n",
       "      <td>1.0</td>\n",
       "      <td>1</td>\n",
       "      <td>1</td>\n",
       "      <td>32</td>\n",
       "      <td>1</td>\n",
       "      <td>52.395334</td>\n",
       "      <td>4.916701</td>\n",
       "      <td>Private room</td>\n",
       "      <td>t</td>\n",
       "      <td>2.142603</td>\n",
       "    </tr>\n",
       "  </tbody>\n",
       "</table>\n",
       "</div>"
      ],
      "text/plain": [
       "      host_listings_count  accommodates  bathrooms  bedrooms  guests_included  \\\n",
       "0                     1.0             6        1.0       2.0                1   \n",
       "1                     1.0             2        1.0       1.0                1   \n",
       "10                    1.0             2        1.0       1.0                1   \n",
       "100                   1.0             5        1.0       4.0                1   \n",
       "1000                  1.0             1        1.0       1.0                1   \n",
       "\n",
       "      minimum_nights  number_of_reviews  calculated_host_listings_count  \\\n",
       "0                  3                  4                               1   \n",
       "1                  2                 17                               1   \n",
       "10                 3                  0                               1   \n",
       "100                5                  2                               1   \n",
       "1000               1                 32                               1   \n",
       "\n",
       "       latitude  longitude        room_type instant_bookable  d_centre  \n",
       "0     52.361173   4.866755  Entire home/apt                f  2.987199  \n",
       "1     52.370237   4.859507  Entire home/apt                f  2.885443  \n",
       "10    52.371424   4.848644  Entire home/apt                f  3.551815  \n",
       "100   52.312889   4.980151  Entire home/apt                f  9.181975  \n",
       "1000  52.395334   4.916701     Private room                t  2.142603  "
      ]
     },
     "execution_count": 28,
     "metadata": {},
     "output_type": "execute_result"
    }
   ],
   "source": [
    "X.head()"
   ]
  },
  {
   "cell_type": "code",
   "execution_count": 29,
   "metadata": {},
   "outputs": [
    {
     "data": {
      "text/plain": [
       "(14995, 13)"
      ]
     },
     "execution_count": 29,
     "metadata": {},
     "output_type": "execute_result"
    }
   ],
   "source": [
    "X.shape"
   ]
  },
  {
   "cell_type": "code",
   "execution_count": 30,
   "metadata": {},
   "outputs": [],
   "source": [
    "X=pd.get_dummies(X)"
   ]
  },
  {
   "cell_type": "code",
   "execution_count": 31,
   "metadata": {},
   "outputs": [
    {
     "data": {
      "text/plain": [
       "(14995, 16)"
      ]
     },
     "execution_count": 31,
     "metadata": {},
     "output_type": "execute_result"
    }
   ],
   "source": [
    "X.shape"
   ]
  },
  {
   "cell_type": "code",
   "execution_count": 32,
   "metadata": {},
   "outputs": [
    {
     "data": {
      "text/html": [
       "<div>\n",
       "<style scoped>\n",
       "    .dataframe tbody tr th:only-of-type {\n",
       "        vertical-align: middle;\n",
       "    }\n",
       "\n",
       "    .dataframe tbody tr th {\n",
       "        vertical-align: top;\n",
       "    }\n",
       "\n",
       "    .dataframe thead th {\n",
       "        text-align: right;\n",
       "    }\n",
       "</style>\n",
       "<table border=\"1\" class=\"dataframe\">\n",
       "  <thead>\n",
       "    <tr style=\"text-align: right;\">\n",
       "      <th></th>\n",
       "      <th>host_listings_count</th>\n",
       "      <th>accommodates</th>\n",
       "      <th>bathrooms</th>\n",
       "      <th>bedrooms</th>\n",
       "      <th>guests_included</th>\n",
       "      <th>minimum_nights</th>\n",
       "      <th>number_of_reviews</th>\n",
       "      <th>calculated_host_listings_count</th>\n",
       "      <th>latitude</th>\n",
       "      <th>longitude</th>\n",
       "      <th>d_centre</th>\n",
       "      <th>room_type_Entire home/apt</th>\n",
       "      <th>room_type_Private room</th>\n",
       "      <th>room_type_Shared room</th>\n",
       "      <th>instant_bookable_f</th>\n",
       "      <th>instant_bookable_t</th>\n",
       "    </tr>\n",
       "  </thead>\n",
       "  <tbody>\n",
       "    <tr>\n",
       "      <th>0</th>\n",
       "      <td>1.0</td>\n",
       "      <td>6</td>\n",
       "      <td>1.0</td>\n",
       "      <td>2.0</td>\n",
       "      <td>1</td>\n",
       "      <td>3</td>\n",
       "      <td>4</td>\n",
       "      <td>1</td>\n",
       "      <td>52.361173</td>\n",
       "      <td>4.866755</td>\n",
       "      <td>2.987199</td>\n",
       "      <td>1</td>\n",
       "      <td>0</td>\n",
       "      <td>0</td>\n",
       "      <td>1</td>\n",
       "      <td>0</td>\n",
       "    </tr>\n",
       "    <tr>\n",
       "      <th>1</th>\n",
       "      <td>1.0</td>\n",
       "      <td>2</td>\n",
       "      <td>1.0</td>\n",
       "      <td>1.0</td>\n",
       "      <td>1</td>\n",
       "      <td>2</td>\n",
       "      <td>17</td>\n",
       "      <td>1</td>\n",
       "      <td>52.370237</td>\n",
       "      <td>4.859507</td>\n",
       "      <td>2.885443</td>\n",
       "      <td>1</td>\n",
       "      <td>0</td>\n",
       "      <td>0</td>\n",
       "      <td>1</td>\n",
       "      <td>0</td>\n",
       "    </tr>\n",
       "    <tr>\n",
       "      <th>10</th>\n",
       "      <td>1.0</td>\n",
       "      <td>2</td>\n",
       "      <td>1.0</td>\n",
       "      <td>1.0</td>\n",
       "      <td>1</td>\n",
       "      <td>3</td>\n",
       "      <td>0</td>\n",
       "      <td>1</td>\n",
       "      <td>52.371424</td>\n",
       "      <td>4.848644</td>\n",
       "      <td>3.551815</td>\n",
       "      <td>1</td>\n",
       "      <td>0</td>\n",
       "      <td>0</td>\n",
       "      <td>1</td>\n",
       "      <td>0</td>\n",
       "    </tr>\n",
       "    <tr>\n",
       "      <th>100</th>\n",
       "      <td>1.0</td>\n",
       "      <td>5</td>\n",
       "      <td>1.0</td>\n",
       "      <td>4.0</td>\n",
       "      <td>1</td>\n",
       "      <td>5</td>\n",
       "      <td>2</td>\n",
       "      <td>1</td>\n",
       "      <td>52.312889</td>\n",
       "      <td>4.980151</td>\n",
       "      <td>9.181975</td>\n",
       "      <td>1</td>\n",
       "      <td>0</td>\n",
       "      <td>0</td>\n",
       "      <td>1</td>\n",
       "      <td>0</td>\n",
       "    </tr>\n",
       "    <tr>\n",
       "      <th>1000</th>\n",
       "      <td>1.0</td>\n",
       "      <td>1</td>\n",
       "      <td>1.0</td>\n",
       "      <td>1.0</td>\n",
       "      <td>1</td>\n",
       "      <td>1</td>\n",
       "      <td>32</td>\n",
       "      <td>1</td>\n",
       "      <td>52.395334</td>\n",
       "      <td>4.916701</td>\n",
       "      <td>2.142603</td>\n",
       "      <td>0</td>\n",
       "      <td>1</td>\n",
       "      <td>0</td>\n",
       "      <td>0</td>\n",
       "      <td>1</td>\n",
       "    </tr>\n",
       "  </tbody>\n",
       "</table>\n",
       "</div>"
      ],
      "text/plain": [
       "      host_listings_count  accommodates  bathrooms  bedrooms  guests_included  \\\n",
       "0                     1.0             6        1.0       2.0                1   \n",
       "1                     1.0             2        1.0       1.0                1   \n",
       "10                    1.0             2        1.0       1.0                1   \n",
       "100                   1.0             5        1.0       4.0                1   \n",
       "1000                  1.0             1        1.0       1.0                1   \n",
       "\n",
       "      minimum_nights  number_of_reviews  calculated_host_listings_count  \\\n",
       "0                  3                  4                               1   \n",
       "1                  2                 17                               1   \n",
       "10                 3                  0                               1   \n",
       "100                5                  2                               1   \n",
       "1000               1                 32                               1   \n",
       "\n",
       "       latitude  longitude  d_centre  room_type_Entire home/apt  \\\n",
       "0     52.361173   4.866755  2.987199                          1   \n",
       "1     52.370237   4.859507  2.885443                          1   \n",
       "10    52.371424   4.848644  3.551815                          1   \n",
       "100   52.312889   4.980151  9.181975                          1   \n",
       "1000  52.395334   4.916701  2.142603                          0   \n",
       "\n",
       "      room_type_Private room  room_type_Shared room  instant_bookable_f  \\\n",
       "0                          0                      0                   1   \n",
       "1                          0                      0                   1   \n",
       "10                         0                      0                   1   \n",
       "100                        0                      0                   1   \n",
       "1000                       1                      0                   0   \n",
       "\n",
       "      instant_bookable_t  \n",
       "0                      0  \n",
       "1                      0  \n",
       "10                     0  \n",
       "100                    0  \n",
       "1000                   1  "
      ]
     },
     "execution_count": 32,
     "metadata": {},
     "output_type": "execute_result"
    }
   ],
   "source": [
    "X.head()"
   ]
  },
  {
   "cell_type": "code",
   "execution_count": 33,
   "metadata": {},
   "outputs": [],
   "source": [
    "y=l['price']"
   ]
  },
  {
   "cell_type": "code",
   "execution_count": 34,
   "metadata": {},
   "outputs": [
    {
     "data": {
      "text/plain": [
       "0       145.0\n",
       "1        88.0\n",
       "10      130.0\n",
       "100      90.0\n",
       "1000     39.0\n",
       "Name: price, dtype: float64"
      ]
     },
     "execution_count": 34,
     "metadata": {},
     "output_type": "execute_result"
    }
   ],
   "source": [
    "y.head()"
   ]
  },
  {
   "cell_type": "code",
   "execution_count": 35,
   "metadata": {},
   "outputs": [],
   "source": [
    "from sklearn.model_selection import train_test_split\n",
    "X_train,X_test,y_train,y_test=train_test_split(X,y,test_size=0.30,random_state=200)"
   ]
  },
  {
   "cell_type": "markdown",
   "metadata": {},
   "source": [
    "# Random Forest Regressor"
   ]
  },
  {
   "cell_type": "code",
   "execution_count": null,
   "metadata": {},
   "outputs": [],
   "source": []
  },
  {
   "cell_type": "code",
   "execution_count": 36,
   "metadata": {},
   "outputs": [],
   "source": [
    "from sklearn.ensemble import RandomForestRegressor"
   ]
  },
  {
   "cell_type": "code",
   "execution_count": 37,
   "metadata": {},
   "outputs": [],
   "source": [
    "clf=RandomForestRegressor(n_estimators=80,oob_score=True,n_jobs=-1,random_state=200, max_features=\"sqrt\")"
   ]
  },
  {
   "cell_type": "code",
   "execution_count": 38,
   "metadata": {},
   "outputs": [
    {
     "data": {
      "text/plain": [
       "RandomForestRegressor(bootstrap=True, criterion='mse', max_depth=None,\n",
       "           max_features='sqrt', max_leaf_nodes=None,\n",
       "           min_impurity_decrease=0.0, min_impurity_split=None,\n",
       "           min_samples_leaf=1, min_samples_split=2,\n",
       "           min_weight_fraction_leaf=0.0, n_estimators=80, n_jobs=-1,\n",
       "           oob_score=True, random_state=200, verbose=0, warm_start=False)"
      ]
     },
     "execution_count": 38,
     "metadata": {},
     "output_type": "execute_result"
    }
   ],
   "source": [
    "clf.fit(X_train,y_train)"
   ]
  },
  {
   "cell_type": "code",
   "execution_count": 39,
   "metadata": {},
   "outputs": [
    {
     "data": {
      "text/plain": [
       "0.5461813197830467"
      ]
     },
     "execution_count": 39,
     "metadata": {},
     "output_type": "execute_result"
    }
   ],
   "source": [
    "clf.oob_score_"
   ]
  },
  {
   "cell_type": "code",
   "execution_count": 40,
   "metadata": {},
   "outputs": [
    {
     "name": "stdout",
     "output_type": "stream",
     "text": [
      "For n_estimators = 30\n",
      "OOB score is 0.5132245816497552\n",
      "************************\n",
      "For n_estimators = 40\n",
      "OOB score is 0.526270795688782\n",
      "************************\n",
      "For n_estimators = 50\n",
      "OOB score is 0.5333232911237602\n",
      "************************\n",
      "For n_estimators = 60\n",
      "OOB score is 0.5405961537825958\n",
      "************************\n",
      "For n_estimators = 70\n",
      "OOB score is 0.5420363788951965\n",
      "************************\n",
      "For n_estimators = 80\n",
      "OOB score is 0.5461813197830467\n",
      "************************\n",
      "For n_estimators = 90\n",
      "OOB score is 0.5483596574139585\n",
      "************************\n",
      "For n_estimators = 100\n",
      "OOB score is 0.5493139643717164\n",
      "************************\n",
      "For n_estimators = 110\n",
      "OOB score is 0.5502816635374528\n",
      "************************\n",
      "For n_estimators = 120\n",
      "OOB score is 0.550892641651252\n",
      "************************\n",
      "For n_estimators = 130\n",
      "OOB score is 0.5517780010622242\n",
      "************************\n",
      "For n_estimators = 140\n",
      "OOB score is 0.5523052994353215\n",
      "************************\n",
      "For n_estimators = 150\n",
      "OOB score is 0.5521105752536062\n",
      "************************\n",
      "For n_estimators = 160\n",
      "OOB score is 0.5520757145583448\n",
      "************************\n",
      "For n_estimators = 170\n",
      "OOB score is 0.5525662955807669\n",
      "************************\n",
      "For n_estimators = 180\n",
      "OOB score is 0.5524506621532679\n",
      "************************\n",
      "For n_estimators = 190\n",
      "OOB score is 0.5526969762162108\n",
      "************************\n",
      "For n_estimators = 200\n",
      "OOB score is 0.5529826677653908\n",
      "************************\n",
      "For n_estimators = 210\n",
      "OOB score is 0.5529503197541263\n",
      "************************\n",
      "For n_estimators = 220\n",
      "OOB score is 0.553012629010277\n",
      "************************\n",
      "For n_estimators = 230\n",
      "OOB score is 0.5531676224545057\n",
      "************************\n",
      "For n_estimators = 240\n",
      "OOB score is 0.5539814438370787\n",
      "************************\n",
      "For n_estimators = 250\n",
      "OOB score is 0.5539372569897184\n",
      "************************\n",
      "For n_estimators = 260\n",
      "OOB score is 0.5545377134946587\n",
      "************************\n",
      "For n_estimators = 270\n",
      "OOB score is 0.5547219921086817\n",
      "************************\n",
      "For n_estimators = 280\n",
      "OOB score is 0.5552288519365669\n",
      "************************\n",
      "For n_estimators = 290\n",
      "OOB score is 0.5556001177902496\n",
      "************************\n",
      "For n_estimators = 300\n",
      "OOB score is 0.5557815332996956\n",
      "************************\n",
      "For n_estimators = 310\n",
      "OOB score is 0.5555325951846466\n",
      "************************\n",
      "For n_estimators = 320\n",
      "OOB score is 0.555772659562677\n",
      "************************\n",
      "For n_estimators = 330\n",
      "OOB score is 0.5562385149582407\n",
      "************************\n",
      "For n_estimators = 340\n",
      "OOB score is 0.5563884993303543\n",
      "************************\n",
      "For n_estimators = 350\n",
      "OOB score is 0.5565877557199606\n",
      "************************\n",
      "For n_estimators = 360\n",
      "OOB score is 0.5566357700377076\n",
      "************************\n",
      "For n_estimators = 370\n",
      "OOB score is 0.5564914712021379\n",
      "************************\n",
      "For n_estimators = 380\n",
      "OOB score is 0.5562679138580411\n",
      "************************\n",
      "For n_estimators = 390\n",
      "OOB score is 0.5566078069893217\n",
      "************************\n",
      "For n_estimators = 400\n",
      "OOB score is 0.5569204270207875\n",
      "************************\n",
      "For n_estimators = 410\n",
      "OOB score is 0.5571964018254263\n",
      "************************\n",
      "For n_estimators = 420\n",
      "OOB score is 0.557124819345572\n",
      "************************\n",
      "For n_estimators = 430\n",
      "OOB score is 0.5573088066269596\n",
      "************************\n",
      "For n_estimators = 440\n",
      "OOB score is 0.5573000953205873\n",
      "************************\n",
      "For n_estimators = 450\n",
      "OOB score is 0.5574920451603209\n",
      "************************\n",
      "For n_estimators = 460\n",
      "OOB score is 0.5574362253774219\n",
      "************************\n",
      "For n_estimators = 470\n",
      "OOB score is 0.5576136662701767\n",
      "************************\n",
      "For n_estimators = 480\n",
      "OOB score is 0.5576260025485603\n",
      "************************\n",
      "For n_estimators = 490\n",
      "OOB score is 0.5575497665935518\n",
      "************************\n",
      "For n_estimators = 500\n",
      "OOB score is 0.5575517573022705\n",
      "************************\n",
      "For n_estimators = 510\n",
      "OOB score is 0.5577280137825712\n",
      "************************\n",
      "For n_estimators = 520\n",
      "OOB score is 0.5577177078301379\n",
      "************************\n",
      "For n_estimators = 530\n",
      "OOB score is 0.5576677982746326\n",
      "************************\n",
      "For n_estimators = 540\n",
      "OOB score is 0.5577572588205754\n",
      "************************\n",
      "For n_estimators = 550\n",
      "OOB score is 0.557750935198844\n",
      "************************\n",
      "For n_estimators = 560\n",
      "OOB score is 0.5577669619662597\n",
      "************************\n",
      "For n_estimators = 570\n",
      "OOB score is 0.5578880720795842\n",
      "************************\n",
      "For n_estimators = 580\n",
      "OOB score is 0.5579125304798712\n",
      "************************\n",
      "For n_estimators = 590\n",
      "OOB score is 0.5580564141489613\n",
      "************************\n"
     ]
    }
   ],
   "source": [
    "for w in range(30,600,10):\n",
    "    clf=RandomForestRegressor(n_estimators=w,oob_score=True,n_jobs=-1,random_state=200, max_features=\"sqrt\")\n",
    "    clf.fit(X_train,y_train)\n",
    "    oob=clf.oob_score_\n",
    "    print ('For n_estimators = '+str(w))\n",
    "    print ('OOB score is '+str(oob))\n",
    "    print ('************************')\n",
    "       "
   ]
  },
  {
   "cell_type": "code",
   "execution_count": 42,
   "metadata": {},
   "outputs": [],
   "source": [
    "#Finalize 190 trees\n",
    "reg=RandomForestRegressor(n_estimators=590,oob_score=True,n_jobs=-1,random_state=200, max_features=\"sqrt\")"
   ]
  },
  {
   "cell_type": "code",
   "execution_count": 43,
   "metadata": {},
   "outputs": [
    {
     "data": {
      "text/plain": [
       "RandomForestRegressor(bootstrap=True, criterion='mse', max_depth=None,\n",
       "           max_features='sqrt', max_leaf_nodes=None,\n",
       "           min_impurity_decrease=0.0, min_impurity_split=None,\n",
       "           min_samples_leaf=1, min_samples_split=2,\n",
       "           min_weight_fraction_leaf=0.0, n_estimators=590, n_jobs=-1,\n",
       "           oob_score=True, random_state=200, verbose=0, warm_start=False)"
      ]
     },
     "execution_count": 43,
     "metadata": {},
     "output_type": "execute_result"
    }
   ],
   "source": [
    "reg.fit(X_train,y_train)"
   ]
  },
  {
   "cell_type": "code",
   "execution_count": 44,
   "metadata": {},
   "outputs": [
    {
     "data": {
      "text/plain": [
       "0.5580564141489613"
      ]
     },
     "execution_count": 44,
     "metadata": {},
     "output_type": "execute_result"
    }
   ],
   "source": [
    "reg.oob_score_"
   ]
  },
  {
   "cell_type": "code",
   "execution_count": 45,
   "metadata": {},
   "outputs": [
    {
     "data": {
      "text/plain": [
       "array([0.02157493, 0.18648566, 0.04842118, 0.12565928, 0.05525327,\n",
       "       0.03652481, 0.06216266, 0.02460587, 0.10744145, 0.11450152,\n",
       "       0.12733741, 0.04146585, 0.03397432, 0.00072571, 0.00705971,\n",
       "       0.00680636])"
      ]
     },
     "execution_count": 45,
     "metadata": {},
     "output_type": "execute_result"
    }
   ],
   "source": [
    "reg.feature_importances_"
   ]
  },
  {
   "cell_type": "code",
   "execution_count": 46,
   "metadata": {},
   "outputs": [],
   "source": [
    "imp_feat=pd.Series(reg.feature_importances_,index=X.columns.tolist())"
   ]
  },
  {
   "cell_type": "code",
   "execution_count": 47,
   "metadata": {},
   "outputs": [
    {
     "data": {
      "text/plain": [
       "accommodates                      0.186486\n",
       "d_centre                          0.127337\n",
       "bedrooms                          0.125659\n",
       "longitude                         0.114502\n",
       "latitude                          0.107441\n",
       "number_of_reviews                 0.062163\n",
       "guests_included                   0.055253\n",
       "bathrooms                         0.048421\n",
       "room_type_Entire home/apt         0.041466\n",
       "minimum_nights                    0.036525\n",
       "room_type_Private room            0.033974\n",
       "calculated_host_listings_count    0.024606\n",
       "host_listings_count               0.021575\n",
       "instant_bookable_f                0.007060\n",
       "instant_bookable_t                0.006806\n",
       "room_type_Shared room             0.000726\n",
       "dtype: float64"
      ]
     },
     "execution_count": 47,
     "metadata": {},
     "output_type": "execute_result"
    }
   ],
   "source": [
    "imp_feat.sort_values(ascending=False)"
   ]
  },
  {
   "cell_type": "code",
   "execution_count": 48,
   "metadata": {},
   "outputs": [
    {
     "data": {
      "text/plain": [
       "<matplotlib.axes._subplots.AxesSubplot at 0x53ffcc0>"
      ]
     },
     "execution_count": 48,
     "metadata": {},
     "output_type": "execute_result"
    },
    {
     "data": {
      "image/png": "[encoded data removed]",
      "text/plain": [
       "<Figure size 432x288 with 1 Axes>"
      ]
     },
     "metadata": {
      "needs_background": "light"
     },
     "output_type": "display_data"
    }
   ],
   "source": [
    "imp_feat.sort_values(ascending=False).plot(kind='bar')"
   ]
  },
  {
   "cell_type": "code",
   "execution_count": null,
   "metadata": {},
   "outputs": [],
   "source": []
  },
  {
   "cell_type": "code",
   "execution_count": null,
   "metadata": {},
   "outputs": [],
   "source": []
  }
 ],
 "metadata": {
  "kernelspec": {
   "display_name": "Python 3",
   "language": "python",
   "name": "python3"
  },
  "language_info": {
   "codemirror_mode": {
    "name": "ipython",
    "version": 3
   },
   "file_extension": ".py",
   "mimetype": "text/x-python",
   "name": "python",
   "nbconvert_exporter": "python",
   "pygments_lexer": "ipython3",
   "version": "3.7.0"
  }
 },
 "nbformat": 4,
 "nbformat_minor": 2
}
